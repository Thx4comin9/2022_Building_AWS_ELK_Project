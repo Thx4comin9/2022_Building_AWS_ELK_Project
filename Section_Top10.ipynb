{
 "cells": [
  {
   "cell_type": "markdown",
   "id": "5c11aee6",
   "metadata": {},
   "source": [
    "분야별 토픽 top 10\n",
    "1. 섹션별 필터링 = 경제, 사회 \n",
    "2.value_count() title or content 둘 다?"
   ]
  },
  {
   "cell_type": "code",
   "execution_count": 1,
   "id": "74bd3e20",
   "metadata": {},
   "outputs": [],
   "source": [
    "import pandas as pd\n",
    "import numpy as np\n",
    "import matplotlib.pyplot as plt\n",
    "from collections import Counter\n",
    "from wordcloud import WordCloud\n",
    "from konlpy.tag import Okt"
   ]
  },
  {
   "cell_type": "code",
   "execution_count": null,
   "id": "0842f162",
   "metadata": {},
   "outputs": [],
   "source": []
  },
  {
   "cell_type": "code",
   "execution_count": 18,
   "id": "71db3f2d",
   "metadata": {},
   "outputs": [],
   "source": [
    "c= pd.read_csv(\"/Users/KBS/Documents/CNU_Everytime_SentimentAnalysis/chosun/chosun_senti.csv\",sep=\"\\t\",encoding=\"utf-8\")\n",
    "d= pd.read_csv(\"/Users/KBS/Documents/CNU_Everytime_SentimentAnalysis/donga/donga_senti.csv\",sep=\"\\t\",encoding=\"utf-8\")\n",
    "j= pd.read_csv(\"/Users/KBS/Documents/CNU_Everytime_SentimentAnalysis/joogang/joongang_senti.csv\",sep=\"\\t\",encoding=\"utf-8\")"
   ]
  },
  {
   "cell_type": "markdown",
   "id": "86498974",
   "metadata": {},
   "source": [
    "# 정치분야 토픽 Top10"
   ]
  },
  {
   "cell_type": "code",
   "execution_count": 26,
   "id": "55dac595",
   "metadata": {},
   "outputs": [],
   "source": [
    "c_pol = c[c['section'].str.contains('정치')] ####\n",
    "d_pol = d[d['section'].str.contains('Politics')] ####\n",
    "j_pol = c[c['section'].str.contains('정치')] ####\n"
   ]
  },
  {
   "cell_type": "code",
   "execution_count": 27,
   "id": "2a48773c",
   "metadata": {},
   "outputs": [],
   "source": [
    "tokenizer = Okt()\n",
    "stop_words = ['포토', '종합', '사진', '공개', '공식', '요즘', '갑자기', '논란', '행사','이유', '조선일보','사람','모습','위','첫','전','오늘','승','팀','최','골','시즌','리그','연속','감독','세계','것','강','명','최고','차','점','찬','더','등','호','황']\n"
   ]
  },
  {
   "cell_type": "code",
   "execution_count": null,
   "id": "0118dd78",
   "metadata": {},
   "outputs": [],
   "source": [
    "c[\"tokenized\"] = c[\"title\"].apply(str).apply(tokenizer.nouns)\n",
    "c['tokenized'] = c['tokenized'].apply(lambda x: [item for item in x if item not in stop_words and len(item) > 1])\n"
   ]
  },
  {
   "cell_type": "code",
   "execution_count": 85,
   "id": "9f7fd749",
   "metadata": {},
   "outputs": [
    {
     "data": {
      "text/plain": [
       "[('이재명', 466),\n",
       " ('술자리', 443),\n",
       " ('한동훈', 379),\n",
       " ('남국', 319),\n",
       " ('방송', 310),\n",
       " ('부적절', 306),\n",
       " ('지적', 306),\n",
       " ('새벽', 302),\n",
       " ('특정', 302),\n",
       " ('술집', 301)]"
      ]
     },
     "execution_count": 85,
     "metadata": {},
     "output_type": "execute_result"
    }
   ],
   "source": [
    "c_pol = c[c['section'].str.contains('정치')] ####\n",
    "c_pol[c_pol['section']=='title']['tokenized'].values\n",
    "c_pol = np.hstack(c_pol[c_pol['section']=='정치']['tokenized'].values) ####\n",
    "c_pol = Counter(c_pol)#\n",
    "c_pol = c_pol.most_common(10)#\n",
    "c_pol"
   ]
  },
  {
   "cell_type": "code",
   "execution_count": 30,
   "id": "abc94e9d",
   "metadata": {},
   "outputs": [],
   "source": [
    "j['section'] = j['section'].fillna('no')"
   ]
  },
  {
   "cell_type": "code",
   "execution_count": null,
   "id": "fe862f6a",
   "metadata": {},
   "outputs": [],
   "source": [
    "j[\"tokenized\"] = j[\"title\"].apply(str).apply(tokenizer.nouns)\n",
    "j['tokenized'] = j['tokenized'].apply(lambda x: [item for item in x if item not in stop_words and len(item) > 1])"
   ]
  },
  {
   "cell_type": "code",
   "execution_count": 33,
   "id": "014e3fca",
   "metadata": {},
   "outputs": [],
   "source": [
    "j_pol = j[j['section'].str.contains('정치')] ####\n",
    "j_pol[j_pol['section']=='title']['tokenized'].values\n",
    "j_pol = np.hstack(j_pol[j_pol['section']=='정치']['tokenized'].values) ####\n",
    "j_pol = Counter(j_pol)#\n",
    "j_pol = j_pol.most_common(10)#"
   ]
  },
  {
   "cell_type": "code",
   "execution_count": 40,
   "id": "284154fd",
   "metadata": {},
   "outputs": [],
   "source": [
    "d[\"tokenized\"] = d[\"title\"].apply(str).apply(tokenizer.nouns)\n",
    "d['tokenized'] = d['tokenized'].apply(lambda x: [item for item in x if item not in stop_words and len(item) > 1])"
   ]
  },
  {
   "cell_type": "code",
   "execution_count": 41,
   "id": "da339544",
   "metadata": {},
   "outputs": [],
   "source": [
    "d_pol = d[d['section'].str.contains('Politics')] ####\n",
    "d_pol[d_pol['section']=='title']['tokenized'].values\n",
    "d_pol = np.hstack(d_pol[d_pol['section']=='Politics']['tokenized'].values) ####\n",
    "d_pol = Counter(d_pol)#\n",
    "d_pol = d_pol.most_common(10)#"
   ]
  },
  {
   "cell_type": "code",
   "execution_count": null,
   "id": "07e0adb6",
   "metadata": {},
   "outputs": [],
   "source": [
    "# 키워드 추출"
   ]
  },
  {
   "cell_type": "code",
   "execution_count": 36,
   "id": "0f552c2c",
   "metadata": {},
   "outputs": [
    {
     "name": "stdout",
     "output_type": "stream",
     "text": [
      "['이재명', '술자리', '한동훈', '남국', '방송', '부적절', '지적', '새벽', '특정', '술집']\n"
     ]
    }
   ],
   "source": [
    "c_poli = []\n",
    "for i in c_pol:\n",
    "    c_poli.append(i[0])\n",
    "print(c_politics)"
   ]
  },
  {
   "cell_type": "code",
   "execution_count": 39,
   "id": "dd455676",
   "metadata": {},
   "outputs": [
    {
     "name": "stdout",
     "output_type": "stream",
     "text": [
      "['이재명', '이준석', '대통령', '윤석열', '국민', '정부', '민주당', '속보', '김건희', '대선']\n"
     ]
    }
   ],
   "source": [
    "j_poli = []\n",
    "for i in j_pol:\n",
    "    j_poli.append(i[0])\n",
    "print(j_poli)"
   ]
  },
  {
   "cell_type": "code",
   "execution_count": 42,
   "id": "d24e5561",
   "metadata": {},
   "outputs": [
    {
     "name": "stdout",
     "output_type": "stream",
     "text": [
      "['이준석', '이재명', '대통령', '대통령실', '정부', '권성동', '국민', '민주', '민주당', '한미']\n"
     ]
    }
   ],
   "source": [
    "d_poli = []\n",
    "for i in d_pol:\n",
    "    d_poli.append(i[0])\n",
    "print(d_poli)"
   ]
  },
  {
   "cell_type": "markdown",
   "id": "146b90f2",
   "metadata": {},
   "source": [
    "# 경제 토픽"
   ]
  },
  {
   "cell_type": "code",
   "execution_count": 49,
   "id": "41bac6bd",
   "metadata": {},
   "outputs": [],
   "source": [
    "c_eco = c[c['section'].str.contains('경제')] ####\n",
    "d_eco = d[d['section'].str.contains('Economy')] ####\n",
    "j_eco = c[c['section'].str.contains('경제')] ####\n"
   ]
  },
  {
   "cell_type": "code",
   "execution_count": 70,
   "id": "966585ea",
   "metadata": {},
   "outputs": [],
   "source": [
    "c_eco = c[c['section'].str.contains('경제')] ####\n",
    "c_eco[c_eco['section']=='title']['tokenized'].values\n",
    "c_eco = np.hstack(c_eco[c_eco['section']=='경제']['tokenized'].values) ####\n",
    "c_eco = Counter(c_eco)#\n",
    "del(c_eco['까닭'])\n",
    "c_eco = c_eco.most_common(10)#"
   ]
  },
  {
   "cell_type": "code",
   "execution_count": 74,
   "id": "357b33d6",
   "metadata": {},
   "outputs": [],
   "source": [
    "d_eco = d[d['section'].str.contains('Economy')] ####\n",
    "d_eco[d_eco['section']=='title']['tokenized'].values\n",
    "d_eco = np.hstack(d_eco[d_eco['section']=='Economy']['tokenized'].values) ####\n",
    "d_eco = Counter(d_eco)#\n",
    "d_eco = d_eco.most_common(10)#"
   ]
  },
  {
   "cell_type": "code",
   "execution_count": 76,
   "id": "f92c93ac",
   "metadata": {},
   "outputs": [],
   "source": [
    "j_eco = j[j['section'].str.contains('경제')] ####\n",
    "j_eco[j_eco['section']=='title']['tokenized'].values\n",
    "j_eco = np.hstack(j_eco[j_eco['section']=='경제']['tokenized'].values) ####\n",
    "j_eco = Counter(j_eco)#\n",
    "j_eco = j_eco.most_common(10)#"
   ]
  },
  {
   "cell_type": "code",
   "execution_count": 77,
   "id": "52470004",
   "metadata": {},
   "outputs": [
    {
     "name": "stdout",
     "output_type": "stream",
     "text": [
      "['기업', '비상', '대만', '대출', '금리', '정부', '금융', '물가', '한국', '은행']\n"
     ]
    }
   ],
   "source": [
    "c_economy = []\n",
    "for i in c_eco:\n",
    "    c_economy.append(i[0])\n",
    "print(c_economy)"
   ]
  },
  {
   "cell_type": "code",
   "execution_count": 75,
   "id": "c397a5e0",
   "metadata": {},
   "outputs": [
    {
     "name": "stdout",
     "output_type": "stream",
     "text": [
      "['삼성', '금리', '환율', '정부', '아파트', '경제', '서울', '기업', '최대', '인상']\n"
     ]
    }
   ],
   "source": [
    "d_economy = []\n",
    "for i in d_eco:\n",
    "    d_economy.append(i[0])\n",
    "print(d_economy)"
   ]
  },
  {
   "cell_type": "code",
   "execution_count": 78,
   "id": "361179fa",
   "metadata": {},
   "outputs": [
    {
     "name": "stdout",
     "output_type": "stream",
     "text": [
      "['삼성', '기업', '한국', '정부', '대출', '최대', '금리', '투자', '물가', '시장']\n"
     ]
    }
   ],
   "source": [
    "j_economy = []\n",
    "for i in j_eco:\n",
    "    j_economy.append(i[0])\n",
    "print(j_economy)"
   ]
  },
  {
   "cell_type": "code",
   "execution_count": null,
   "id": "a5e6b4f8",
   "metadata": {},
   "outputs": [],
   "source": [
    " = pd.DataFrame({ '한글':ko, '영어':en })"
   ]
  },
  {
   "cell_type": "code",
   "execution_count": 80,
   "id": "d00a3062",
   "metadata": {},
   "outputs": [],
   "source": [
    "cdj_eco = pd.DataFrame(data = list(zip(c_economy, j_economy, d_economy)), columns = ['조선일보', '중앙일보','동아일보'])"
   ]
  },
  {
   "cell_type": "code",
   "execution_count": 81,
   "id": "4faa1ffb",
   "metadata": {
    "scrolled": true
   },
   "outputs": [
    {
     "data": {
      "text/html": [
       "<div>\n",
       "<style scoped>\n",
       "    .dataframe tbody tr th:only-of-type {\n",
       "        vertical-align: middle;\n",
       "    }\n",
       "\n",
       "    .dataframe tbody tr th {\n",
       "        vertical-align: top;\n",
       "    }\n",
       "\n",
       "    .dataframe thead th {\n",
       "        text-align: right;\n",
       "    }\n",
       "</style>\n",
       "<table border=\"1\" class=\"dataframe\">\n",
       "  <thead>\n",
       "    <tr style=\"text-align: right;\">\n",
       "      <th></th>\n",
       "      <th>조선일보</th>\n",
       "      <th>중앙일보</th>\n",
       "      <th>동아일보</th>\n",
       "    </tr>\n",
       "  </thead>\n",
       "  <tbody>\n",
       "    <tr>\n",
       "      <th>0</th>\n",
       "      <td>기업</td>\n",
       "      <td>삼성</td>\n",
       "      <td>삼성</td>\n",
       "    </tr>\n",
       "    <tr>\n",
       "      <th>1</th>\n",
       "      <td>비상</td>\n",
       "      <td>기업</td>\n",
       "      <td>금리</td>\n",
       "    </tr>\n",
       "    <tr>\n",
       "      <th>2</th>\n",
       "      <td>대만</td>\n",
       "      <td>한국</td>\n",
       "      <td>환율</td>\n",
       "    </tr>\n",
       "    <tr>\n",
       "      <th>3</th>\n",
       "      <td>대출</td>\n",
       "      <td>정부</td>\n",
       "      <td>정부</td>\n",
       "    </tr>\n",
       "    <tr>\n",
       "      <th>4</th>\n",
       "      <td>금리</td>\n",
       "      <td>대출</td>\n",
       "      <td>아파트</td>\n",
       "    </tr>\n",
       "    <tr>\n",
       "      <th>5</th>\n",
       "      <td>정부</td>\n",
       "      <td>최대</td>\n",
       "      <td>경제</td>\n",
       "    </tr>\n",
       "    <tr>\n",
       "      <th>6</th>\n",
       "      <td>금융</td>\n",
       "      <td>금리</td>\n",
       "      <td>서울</td>\n",
       "    </tr>\n",
       "    <tr>\n",
       "      <th>7</th>\n",
       "      <td>물가</td>\n",
       "      <td>투자</td>\n",
       "      <td>기업</td>\n",
       "    </tr>\n",
       "    <tr>\n",
       "      <th>8</th>\n",
       "      <td>한국</td>\n",
       "      <td>물가</td>\n",
       "      <td>최대</td>\n",
       "    </tr>\n",
       "    <tr>\n",
       "      <th>9</th>\n",
       "      <td>은행</td>\n",
       "      <td>시장</td>\n",
       "      <td>인상</td>\n",
       "    </tr>\n",
       "  </tbody>\n",
       "</table>\n",
       "</div>"
      ],
      "text/plain": [
       "  조선일보 중앙일보 동아일보\n",
       "0   기업   삼성   삼성\n",
       "1   비상   기업   금리\n",
       "2   대만   한국   환율\n",
       "3   대출   정부   정부\n",
       "4   금리   대출  아파트\n",
       "5   정부   최대   경제\n",
       "6   금융   금리   서울\n",
       "7   물가   투자   기업\n",
       "8   한국   물가   최대\n",
       "9   은행   시장   인상"
      ]
     },
     "execution_count": 81,
     "metadata": {},
     "output_type": "execute_result"
    }
   ],
   "source": [
    "cdj_eco"
   ]
  },
  {
   "cell_type": "code",
   "execution_count": 82,
   "id": "50d77c85",
   "metadata": {},
   "outputs": [],
   "source": [
    "cdj_pol = pd.DataFrame(data = list(zip(c_poli, j_poli, d_poli)), columns = ['조선일보', '중앙일보','동아일보'])"
   ]
  },
  {
   "cell_type": "code",
   "execution_count": 83,
   "id": "0765ae88",
   "metadata": {},
   "outputs": [
    {
     "data": {
      "text/html": [
       "<div>\n",
       "<style scoped>\n",
       "    .dataframe tbody tr th:only-of-type {\n",
       "        vertical-align: middle;\n",
       "    }\n",
       "\n",
       "    .dataframe tbody tr th {\n",
       "        vertical-align: top;\n",
       "    }\n",
       "\n",
       "    .dataframe thead th {\n",
       "        text-align: right;\n",
       "    }\n",
       "</style>\n",
       "<table border=\"1\" class=\"dataframe\">\n",
       "  <thead>\n",
       "    <tr style=\"text-align: right;\">\n",
       "      <th></th>\n",
       "      <th>조선일보</th>\n",
       "      <th>중앙일보</th>\n",
       "      <th>동아일보</th>\n",
       "    </tr>\n",
       "  </thead>\n",
       "  <tbody>\n",
       "    <tr>\n",
       "      <th>0</th>\n",
       "      <td>이재명</td>\n",
       "      <td>이재명</td>\n",
       "      <td>이준석</td>\n",
       "    </tr>\n",
       "    <tr>\n",
       "      <th>1</th>\n",
       "      <td>술자리</td>\n",
       "      <td>이준석</td>\n",
       "      <td>이재명</td>\n",
       "    </tr>\n",
       "    <tr>\n",
       "      <th>2</th>\n",
       "      <td>한동훈</td>\n",
       "      <td>대통령</td>\n",
       "      <td>대통령</td>\n",
       "    </tr>\n",
       "    <tr>\n",
       "      <th>3</th>\n",
       "      <td>남국</td>\n",
       "      <td>윤석열</td>\n",
       "      <td>대통령실</td>\n",
       "    </tr>\n",
       "    <tr>\n",
       "      <th>4</th>\n",
       "      <td>방송</td>\n",
       "      <td>국민</td>\n",
       "      <td>정부</td>\n",
       "    </tr>\n",
       "    <tr>\n",
       "      <th>5</th>\n",
       "      <td>부적절</td>\n",
       "      <td>정부</td>\n",
       "      <td>권성동</td>\n",
       "    </tr>\n",
       "    <tr>\n",
       "      <th>6</th>\n",
       "      <td>지적</td>\n",
       "      <td>민주당</td>\n",
       "      <td>국민</td>\n",
       "    </tr>\n",
       "    <tr>\n",
       "      <th>7</th>\n",
       "      <td>새벽</td>\n",
       "      <td>속보</td>\n",
       "      <td>민주</td>\n",
       "    </tr>\n",
       "    <tr>\n",
       "      <th>8</th>\n",
       "      <td>특정</td>\n",
       "      <td>김건희</td>\n",
       "      <td>민주당</td>\n",
       "    </tr>\n",
       "    <tr>\n",
       "      <th>9</th>\n",
       "      <td>술집</td>\n",
       "      <td>대선</td>\n",
       "      <td>한미</td>\n",
       "    </tr>\n",
       "  </tbody>\n",
       "</table>\n",
       "</div>"
      ],
      "text/plain": [
       "  조선일보 중앙일보  동아일보\n",
       "0  이재명  이재명   이준석\n",
       "1  술자리  이준석   이재명\n",
       "2  한동훈  대통령   대통령\n",
       "3   남국  윤석열  대통령실\n",
       "4   방송   국민    정부\n",
       "5  부적절   정부   권성동\n",
       "6   지적  민주당    국민\n",
       "7   새벽   속보    민주\n",
       "8   특정  김건희   민주당\n",
       "9   술집   대선    한미"
      ]
     },
     "execution_count": 83,
     "metadata": {},
     "output_type": "execute_result"
    }
   ],
   "source": [
    "cdj_pol"
   ]
  }
 ],
 "metadata": {
  "kernelspec": {
   "display_name": "Python 3 (ipykernel)",
   "language": "python",
   "name": "python3"
  },
  "language_info": {
   "codemirror_mode": {
    "name": "ipython",
    "version": 3
   },
   "file_extension": ".py",
   "mimetype": "text/x-python",
   "name": "python",
   "nbconvert_exporter": "python",
   "pygments_lexer": "ipython3",
   "version": "3.7.13"
  }
 },
 "nbformat": 4,
 "nbformat_minor": 5
}
