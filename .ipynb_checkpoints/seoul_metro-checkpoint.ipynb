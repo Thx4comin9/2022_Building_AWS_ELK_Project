{
 "cells": [
  {
   "cell_type": "code",
   "execution_count": 1,
   "id": "b6491c75",
   "metadata": {},
   "outputs": [],
   "source": [
    "import pandas as pd "
   ]
  },
  {
   "cell_type": "code",
   "execution_count": 2,
   "id": "3fdaf19f",
   "metadata": {},
   "outputs": [],
   "source": [
    "a = pd.read_csv('seoul-metro-2015.logs.csv')\n"
   ]
  },
  {
   "cell_type": "code",
   "execution_count": 4,
   "id": "47e1f676",
   "metadata": {},
   "outputs": [
    {
     "data": {
      "text/plain": [
       "(2007500, 4)"
      ]
     },
     "execution_count": 4,
     "metadata": {},
     "output_type": "execute_result"
    }
   ],
   "source": [
    "a.shape"
   ]
  },
  {
   "cell_type": "code",
   "execution_count": 6,
   "id": "ec86ac6a",
   "metadata": {},
   "outputs": [
    {
     "data": {
      "text/html": [
       "<div>\n",
       "<style scoped>\n",
       "    .dataframe tbody tr th:only-of-type {\n",
       "        vertical-align: middle;\n",
       "    }\n",
       "\n",
       "    .dataframe tbody tr th {\n",
       "        vertical-align: top;\n",
       "    }\n",
       "\n",
       "    .dataframe thead th {\n",
       "        text-align: right;\n",
       "    }\n",
       "</style>\n",
       "<table border=\"1\" class=\"dataframe\">\n",
       "  <thead>\n",
       "    <tr style=\"text-align: right;\">\n",
       "      <th></th>\n",
       "      <th>timestamp</th>\n",
       "      <th>station_code</th>\n",
       "      <th>people_in</th>\n",
       "      <th>people_out</th>\n",
       "    </tr>\n",
       "  </thead>\n",
       "  <tbody>\n",
       "    <tr>\n",
       "      <th>0</th>\n",
       "      <td>2015-01-01T05:00:00.000+09:00</td>\n",
       "      <td>150</td>\n",
       "      <td>441</td>\n",
       "      <td>392</td>\n",
       "    </tr>\n",
       "    <tr>\n",
       "      <th>1</th>\n",
       "      <td>2015-01-01T06:00:00.000+09:00</td>\n",
       "      <td>150</td>\n",
       "      <td>399</td>\n",
       "      <td>1396</td>\n",
       "    </tr>\n",
       "    <tr>\n",
       "      <th>2</th>\n",
       "      <td>2015-01-01T07:00:00.000+09:00</td>\n",
       "      <td>150</td>\n",
       "      <td>572</td>\n",
       "      <td>1391</td>\n",
       "    </tr>\n",
       "    <tr>\n",
       "      <th>3</th>\n",
       "      <td>2015-01-01T08:00:00.000+09:00</td>\n",
       "      <td>150</td>\n",
       "      <td>1106</td>\n",
       "      <td>1913</td>\n",
       "    </tr>\n",
       "    <tr>\n",
       "      <th>4</th>\n",
       "      <td>2015-01-01T09:00:00.000+09:00</td>\n",
       "      <td>150</td>\n",
       "      <td>1474</td>\n",
       "      <td>2351</td>\n",
       "    </tr>\n",
       "  </tbody>\n",
       "</table>\n",
       "</div>"
      ],
      "text/plain": [
       "                       timestamp  station_code  people_in  people_out\n",
       "0  2015-01-01T05:00:00.000+09:00           150        441         392\n",
       "1  2015-01-01T06:00:00.000+09:00           150        399        1396\n",
       "2  2015-01-01T07:00:00.000+09:00           150        572        1391\n",
       "3  2015-01-01T08:00:00.000+09:00           150       1106        1913\n",
       "4  2015-01-01T09:00:00.000+09:00           150       1474        2351"
      ]
     },
     "execution_count": 6,
     "metadata": {},
     "output_type": "execute_result"
    }
   ],
   "source": [
    "a.head()"
   ]
  },
  {
   "cell_type": "code",
   "execution_count": null,
   "id": "8b28cb1d",
   "metadata": {},
   "outputs": [],
   "source": []
  }
 ],
 "metadata": {
  "kernelspec": {
   "display_name": "ML",
   "language": "python",
   "name": "pytorch"
  },
  "language_info": {
   "codemirror_mode": {
    "name": "ipython",
    "version": 3
   },
   "file_extension": ".py",
   "mimetype": "text/x-python",
   "name": "python",
   "nbconvert_exporter": "python",
   "pygments_lexer": "ipython3",
   "version": "3.7.13"
  }
 },
 "nbformat": 4,
 "nbformat_minor": 5
}
