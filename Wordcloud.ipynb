{
 "cells": [
  {
   "cell_type": "code",
   "execution_count": null,
   "id": "273a785b",
   "metadata": {},
   "outputs": [],
   "source": [
    "title = []\n",
    "\n",
    "#a크롤링해서 title 리스트로.\n",
    "\n",
    "from wordcloud import wordcloud\n",
    "import matplotlib.pyplot as plt\n",
    "from collections import Counter\n",
    "from konlpy.tag import Okt\n",
    "\n",
    "# okt 객체 생성 후 nouns 명사추출\n",
    "\n",
    "\n",
    "nouns = okt.nouns(기사타이틀)\n",
    "\n",
    "words = []\n",
    "\n",
    "okt = Okt()\n",
    "\n",
    "for title in titles:\n",
    "    nouns = okt.nouns(question) # 1번 반복할 떄 나온 명사들\n",
    "    words += nouns # 누적해서 나온 명사들\n",
    "\n",
    "print(len(words))\n",
    "\n",
    "\n",
    "# counter로 단어 갯수 세주기\n",
    "counter = Counter(nouns)\n",
    "\n",
    "count\n",
    "\n",
    "# WordCloud를 이용해 텍스트 구름\n",
    "\n",
    "wordcloud = WordCloud(\n",
    "    fonts = \"경로\",\n",
    "    width = 1000,\n",
    "    height = 1000,)\n",
    "\n",
    "imga = wordcloud.generate_from_freqeuncies(counter)\n",
    "plt.imshow(img)"
   ]
  },
  {
   "cell_type": "code",
   "execution_count": 32,
   "id": "8fa29807",
   "metadata": {},
   "outputs": [
    {
     "ename": "NameError",
     "evalue": "name 'df' is not defined",
     "output_type": "error",
     "traceback": [
      "\u001b[0;31m---------------------------------------------------------------------------\u001b[0m",
      "\u001b[0;31mNameError\u001b[0m                                 Traceback (most recent call last)",
      "\u001b[0;32m/var/folders/r8/hnw1hjlx54z7_g14njp906m00000gp/T/ipykernel_1262/2640365316.py\u001b[0m in \u001b[0;36m<module>\u001b[0;34m\u001b[0m\n\u001b[1;32m      2\u001b[0m \u001b[0mtokenizer\u001b[0m \u001b[0;34m=\u001b[0m \u001b[0mOkt\u001b[0m\u001b[0;34m(\u001b[0m\u001b[0;34m)\u001b[0m\u001b[0;34m\u001b[0m\u001b[0;34m\u001b[0m\u001b[0m\n\u001b[1;32m      3\u001b[0m \u001b[0mkor_text\u001b[0m \u001b[0;34m=\u001b[0m \u001b[0;34m'...'\u001b[0m\u001b[0;34m\u001b[0m\u001b[0;34m\u001b[0m\u001b[0m\n\u001b[0;32m----> 4\u001b[0;31m \u001b[0mdf\u001b[0m\u001b[0;34m[\u001b[0m\u001b[0;34m'tokenized'\u001b[0m\u001b[0;34m]\u001b[0m \u001b[0;34m=\u001b[0m \u001b[0mdonga_senti\u001b[0m\u001b[0;34m[\u001b[0m\u001b[0;34m'title'\u001b[0m\u001b[0;34m]\u001b[0m\u001b[0;34m.\u001b[0m\u001b[0mapply\u001b[0m\u001b[0;34m(\u001b[0m\u001b[0mtokenizer\u001b[0m\u001b[0;34m.\u001b[0m\u001b[0mnouns\u001b[0m\u001b[0;34m)\u001b[0m\u001b[0;34m\u001b[0m\u001b[0;34m\u001b[0m\u001b[0m\n\u001b[0m",
      "\u001b[0;31mNameError\u001b[0m: name 'df' is not defined"
     ]
    }
   ],
   "source": [
    "from konlpy.tag import Okt\n",
    "tokenizer = Okt()\n",
    "kor_text = '...'\n",
    "df['tokenized'] = donga_senti['title'].apply(tokenizer.nouns)"
   ]
  },
  {
   "cell_type": "code",
   "execution_count": null,
   "id": "382deb13",
   "metadata": {},
   "outputs": [],
   "source": [
    "donga_seti"
   ]
  },
  {
   "cell_type": "code",
   "execution_count": null,
   "id": "d4a47ae3",
   "metadata": {},
   "outputs": [],
   "source": [
    "# 상위 n개만 추출, 그전에 sort필요\n",
    "donga_word.nlargest(200,'count')\n",
    "donga_200.to_csv(\"/Users/KBS/Documents/CNU_Everytime_SentimentAnalysis/donga_200.csv\", index = False)"
   ]
  },
  {
   "cell_type": "code",
   "execution_count": 2,
   "id": "922af23e",
   "metadata": {},
   "outputs": [],
   "source": [
    "import pandas as pd"
   ]
  },
  {
   "cell_type": "code",
   "execution_count": 33,
   "id": "1e69bb94",
   "metadata": {},
   "outputs": [
    {
     "data": {
      "text/html": [
       "<div>\n",
       "<style scoped>\n",
       "    .dataframe tbody tr th:only-of-type {\n",
       "        vertical-align: middle;\n",
       "    }\n",
       "\n",
       "    .dataframe tbody tr th {\n",
       "        vertical-align: top;\n",
       "    }\n",
       "\n",
       "    .dataframe thead th {\n",
       "        text-align: right;\n",
       "    }\n",
       "</style>\n",
       "<table border=\"1\" class=\"dataframe\">\n",
       "  <thead>\n",
       "    <tr style=\"text-align: right;\">\n",
       "      <th></th>\n",
       "      <th>word</th>\n",
       "      <th>count</th>\n",
       "      <th>section</th>\n",
       "    </tr>\n",
       "  </thead>\n",
       "  <tbody>\n",
       "    <tr>\n",
       "      <th>0</th>\n",
       "      <td>리그</td>\n",
       "      <td>9151</td>\n",
       "      <td>Sports</td>\n",
       "    </tr>\n",
       "    <tr>\n",
       "      <th>1</th>\n",
       "      <td>대상</td>\n",
       "      <td>490</td>\n",
       "      <td>Sports</td>\n",
       "    </tr>\n",
       "    <tr>\n",
       "      <th>2</th>\n",
       "      <td>시상식</td>\n",
       "      <td>299</td>\n",
       "      <td>Sports</td>\n",
       "    </tr>\n",
       "    <tr>\n",
       "      <th>3</th>\n",
       "      <td>울산</td>\n",
       "      <td>1382</td>\n",
       "      <td>Sports</td>\n",
       "    </tr>\n",
       "    <tr>\n",
       "      <th>4</th>\n",
       "      <td>주장</td>\n",
       "      <td>709</td>\n",
       "      <td>Sports</td>\n",
       "    </tr>\n",
       "  </tbody>\n",
       "</table>\n",
       "</div>"
      ],
      "text/plain": [
       "  word  count section\n",
       "0   리그   9151  Sports\n",
       "1   대상    490  Sports\n",
       "2  시상식    299  Sports\n",
       "3   울산   1382  Sports\n",
       "4   주장    709  Sports"
      ]
     },
     "execution_count": 33,
     "metadata": {},
     "output_type": "execute_result"
    }
   ],
   "source": [
    "donga_word.head()"
   ]
  },
  {
   "cell_type": "code",
   "execution_count": 4,
   "id": "8760eaae",
   "metadata": {},
   "outputs": [],
   "source": [
    "donga_word=pd.read_csv(\"/Users/KBS/Documents/CNU_Everytime_SentimentAnalysis/donga_word.csv\",sep=\"\\t\",encoding=\"utf-8\")\n",
    "donga_raw=pd.read_csv(\"/Users/KBS/Documents/CNU_Everytime_SentimentAnalysis/donga_raw.csv\",sep=\"\\t\",encoding=\"utf-8\")\n",
    "donga_senti=pd.read_csv(\"/Users/KBS/Documents/CNU_Everytime_SentimentAnalysis/donga_senti.csv\",sep=\"\\t\",encoding=\"utf-8\")"
   ]
  },
  {
   "cell_type": "code",
   "execution_count": 26,
   "id": "6142d294",
   "metadata": {},
   "outputs": [
    {
     "data": {
      "text/html": [
       "<div>\n",
       "<style scoped>\n",
       "    .dataframe tbody tr th:only-of-type {\n",
       "        vertical-align: middle;\n",
       "    }\n",
       "\n",
       "    .dataframe tbody tr th {\n",
       "        vertical-align: top;\n",
       "    }\n",
       "\n",
       "    .dataframe thead th {\n",
       "        text-align: right;\n",
       "    }\n",
       "</style>\n",
       "<table border=\"1\" class=\"dataframe\">\n",
       "  <thead>\n",
       "    <tr style=\"text-align: right;\">\n",
       "      <th></th>\n",
       "      <th>title</th>\n",
       "      <th>content</th>\n",
       "      <th>date</th>\n",
       "      <th>section</th>\n",
       "      <th>url</th>\n",
       "      <th>title_senti</th>\n",
       "    </tr>\n",
       "  </thead>\n",
       "  <tbody>\n",
       "    <tr>\n",
       "      <th>0</th>\n",
       "      <td>“NLL 침범 ‘무포호’, 과거 제3국서 등록 취소…최근까지 중국 입항” VOA</td>\n",
       "      <td>\\n서해 북방한계선(NLL)을 침범했다 퇴각한 북한 상선 ‘무포호’가 과거 토고 등...</td>\n",
       "      <td>2022-10-25 06:58</td>\n",
       "      <td>Politics</td>\n",
       "      <td>https://www.donga.com/news/Politics/article/al...</td>\n",
       "      <td>0.148715</td>\n",
       "    </tr>\n",
       "    <tr>\n",
       "      <th>1</th>\n",
       "      <td>北, 中당대회 끝나자 서해NLL 도발… 7차 핵실험 ‘명분 쌓기’</td>\n",
       "      <td>\\n먼저 월선하고도 “南이 도발” 트집\\r\\n北, 완충해역 포격… 9·19합의 위반...</td>\n",
       "      <td>2022-10-25 03:00</td>\n",
       "      <td>Politics</td>\n",
       "      <td>https://www.donga.com/news/Politics/article/al...</td>\n",
       "      <td>0.678253</td>\n",
       "    </tr>\n",
       "    <tr>\n",
       "      <th>2</th>\n",
       "      <td>檢, 민주硏 압수수색-정진상 출금… 민주 “野 말살”</td>\n",
       "      <td>\\n檢, 김용 쓰던 PC서 문서파일 확보\\r\\n이틀째 金 불러 8억 용처 등 조사\\...</td>\n",
       "      <td>2022-10-25 03:00</td>\n",
       "      <td>Politics</td>\n",
       "      <td>https://www.donga.com/news/Politics/article/al...</td>\n",
       "      <td>0.087201</td>\n",
       "    </tr>\n",
       "    <tr>\n",
       "      <th>3</th>\n",
       "      <td>이재명 “대장동 특검, 尹관련 저축銀 부분 빼도 좋다”</td>\n",
       "      <td>\\n“김건희 특검과 무관” 수위 낮추며\\r\\n본인 수사 ‘檢 아닌 특검’ 뜻 내비쳐...</td>\n",
       "      <td>2022-10-25 03:00</td>\n",
       "      <td>Politics</td>\n",
       "      <td>https://www.donga.com/news/Politics/article/al...</td>\n",
       "      <td>0.916447</td>\n",
       "    </tr>\n",
       "    <tr>\n",
       "      <th>4</th>\n",
       "      <td>민주당, 오늘 尹대통령 국회 시정연설 보이콧… 尹 “시정연설에 조건, 헌정사서 들어...</td>\n",
       "      <td>\\n박홍근 “당사 침탈 사과요구 무시”\\r\\n정진석 “시정연설은 국민 위한 것”\\n...</td>\n",
       "      <td>2022-10-25 03:00</td>\n",
       "      <td>Politics</td>\n",
       "      <td>https://www.donga.com/news/Politics/article/al...</td>\n",
       "      <td>0.677403</td>\n",
       "    </tr>\n",
       "  </tbody>\n",
       "</table>\n",
       "</div>"
      ],
      "text/plain": [
       "                                               title  \\\n",
       "0       “NLL 침범 ‘무포호’, 과거 제3국서 등록 취소…최근까지 중국 입항” VOA   \n",
       "1               北, 中당대회 끝나자 서해NLL 도발… 7차 핵실험 ‘명분 쌓기’   \n",
       "2                      檢, 민주硏 압수수색-정진상 출금… 민주 “野 말살”   \n",
       "3                     이재명 “대장동 특검, 尹관련 저축銀 부분 빼도 좋다”   \n",
       "4  민주당, 오늘 尹대통령 국회 시정연설 보이콧… 尹 “시정연설에 조건, 헌정사서 들어...   \n",
       "\n",
       "                                             content               date  \\\n",
       "0  \\n서해 북방한계선(NLL)을 침범했다 퇴각한 북한 상선 ‘무포호’가 과거 토고 등...   2022-10-25 06:58   \n",
       "1  \\n먼저 월선하고도 “南이 도발” 트집\\r\\n北, 완충해역 포격… 9·19합의 위반...   2022-10-25 03:00   \n",
       "2  \\n檢, 김용 쓰던 PC서 문서파일 확보\\r\\n이틀째 金 불러 8억 용처 등 조사\\...   2022-10-25 03:00   \n",
       "3  \\n“김건희 특검과 무관” 수위 낮추며\\r\\n본인 수사 ‘檢 아닌 특검’ 뜻 내비쳐...   2022-10-25 03:00   \n",
       "4  \\n박홍근 “당사 침탈 사과요구 무시”\\r\\n정진석 “시정연설은 국민 위한 것”\\n...   2022-10-25 03:00   \n",
       "\n",
       "    section                                                url  title_senti  \n",
       "0  Politics  https://www.donga.com/news/Politics/article/al...     0.148715  \n",
       "1  Politics  https://www.donga.com/news/Politics/article/al...     0.678253  \n",
       "2  Politics  https://www.donga.com/news/Politics/article/al...     0.087201  \n",
       "3  Politics  https://www.donga.com/news/Politics/article/al...     0.916447  \n",
       "4  Politics  https://www.donga.com/news/Politics/article/al...     0.677403  "
      ]
     },
     "execution_count": 26,
     "metadata": {},
     "output_type": "execute_result"
    }
   ],
   "source": [
    "donga_senti.head()"
   ]
  },
  {
   "cell_type": "code",
   "execution_count": null,
   "id": "8d3a87df",
   "metadata": {},
   "outputs": [],
   "source": [
    "\"\"\"\n",
    "1.언론사 섹션별 워드클라우드 7개 + 섹션 종합해서 최대 빈도수 ( 기사내용 패스...)\n",
    "2. 바플롯 시간개수\n",
    "3. \n",
    "\n",
    "\"\"\""
   ]
  },
  {
   "cell_type": "code",
   "execution_count": 21,
   "id": "3c726164",
   "metadata": {
    "scrolled": true
   },
   "outputs": [
    {
     "data": {
      "text/plain": [
       "Sports           9870\n",
       "Society          9219\n",
       "Inter            8947\n",
       "Politics         8683\n",
       "Culture          8247\n",
       "Economy          8052\n",
       "Entertainment    6784\n",
       "Name: section, dtype: int64"
      ]
     },
     "execution_count": 21,
     "metadata": {},
     "output_type": "execute_result"
    }
   ],
   "source": [
    "donga_senti['section'].value_counts()"
   ]
  },
  {
   "cell_type": "code",
   "execution_count": 28,
   "id": "2035c3ea",
   "metadata": {},
   "outputs": [],
   "source": [
    "#섹션별 추출\n",
    "donga_Economy = donga_senti[donga_senti['section'].str.contains('Economy')]\n"
   ]
  },
  {
   "cell_type": "code",
   "execution_count": null,
   "id": "194b2642",
   "metadata": {},
   "outputs": [],
   "source": []
  },
  {
   "cell_type": "code",
   "execution_count": null,
   "id": "6a457c72",
   "metadata": {},
   "outputs": [],
   "source": [
    "from konlpy.tag import Okt\n",
    "from collections import Counter\n",
    "\n",
    "# Okt 함수를 이용해 형태소 분석\n",
    "okt = Okt()\n",
    "line =[]\n",
    "\n",
    "line = okt.pos(blog_text)\n",
    "\n",
    "n_adj =[]\n",
    "# 명사 또는 형용사인 단어만 n_adj에 넣어주기\n",
    "for word, tag in line:\n",
    "    if tag in ['Noun','Adjective']:\n",
    "        n_adj.append(word)\n",
    "# 명사 또는 형용사인 단어 및 2글자 이상인 단어 선택 시\n",
    "# n_adj = [word for word, tag in line if tag in ['Noun','Adjective'] and len(word) > 1]\n",
    "print(n_adj)"
   ]
  },
  {
   "cell_type": "code",
   "execution_count": null,
   "id": "2418f70e",
   "metadata": {},
   "outputs": [],
   "source": []
  },
  {
   "cell_type": "code",
   "execution_count": null,
   "id": "a1cec186",
   "metadata": {},
   "outputs": [],
   "source": []
  },
  {
   "cell_type": "code",
   "execution_count": null,
   "id": "73bdca96",
   "metadata": {},
   "outputs": [],
   "source": []
  },
  {
   "cell_type": "code",
   "execution_count": null,
   "id": "bbd8d595",
   "metadata": {},
   "outputs": [],
   "source": []
  },
  {
   "cell_type": "code",
   "execution_count": null,
   "id": "f23372d8",
   "metadata": {},
   "outputs": [],
   "source": []
  },
  {
   "cell_type": "code",
   "execution_count": null,
   "id": "81c70b5b",
   "metadata": {},
   "outputs": [],
   "source": []
  },
  {
   "cell_type": "code",
   "execution_count": 24,
   "id": "ce6e29ef",
   "metadata": {
    "scrolled": true
   },
   "outputs": [],
   "source": [
    "#특정 문자 하나가 들어간  조건식\n",
    "donga_title_keword = donga_senti[donga_senti['title'].str.contains('경제')] ## df[조건식]"
   ]
  },
  {
   "cell_type": "code",
   "execution_count": null,
   "id": "caf29f64",
   "metadata": {},
   "outputs": [],
   "source": [
    "df[df['주소'].map(lambda x: all(string in x for string in target_string))]\n",
    "donga_senti[donga_senti['title']\n"
   ]
  }
 ],
 "metadata": {
  "kernelspec": {
   "display_name": "Python 3 (ipykernel)",
   "language": "python",
   "name": "python3"
  },
  "language_info": {
   "codemirror_mode": {
    "name": "ipython",
    "version": 3
   },
   "file_extension": ".py",
   "mimetype": "text/x-python",
   "name": "python",
   "nbconvert_exporter": "python",
   "pygments_lexer": "ipython3",
   "version": "3.7.13"
  }
 },
 "nbformat": 4,
 "nbformat_minor": 5
}
