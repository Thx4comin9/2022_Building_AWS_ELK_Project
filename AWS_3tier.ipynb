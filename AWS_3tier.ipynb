{
 "cells": [
  {
   "cell_type": "markdown",
   "id": "82ec5a8e",
   "metadata": {},
   "source": [
    "# Bastion 설정\n"
   ]
  },
  {
   "cell_type": "markdown",
   "id": "8a66ed56",
   "metadata": {},
   "source": [
    "### 1. Local PC → Bastion 으로 Pemkey 보내기\n",
    "- 탐색기에서 Pemkey를 c:\\users\\user\\  에 복사 \n",
    "- Powershell 명령어를 통해 Pemkey 업로드"
   ]
  },
  {
   "cell_type": "code",
   "execution_count": 2,
   "id": "2447c8fd",
   "metadata": {},
   "outputs": [
    {
     "ename": "SyntaxError",
     "evalue": "invalid syntax (268737258.py, line 1)",
     "output_type": "error",
     "traceback": [
      "\u001b[0;36m  Input \u001b[0;32mIn [2]\u001b[0;36m\u001b[0m\n\u001b[0;31m    Powershell 명령어를 통해 Pemkey 업로드\u001b[0m\n\u001b[0m               ^\u001b[0m\n\u001b[0;31mSyntaxError\u001b[0m\u001b[0;31m:\u001b[0m invalid syntax\n"
     ]
    }
   ],
   "source": [
    "Powershell 명령어를 통해 Pemkey 업로드\n",
    "\n",
    "ssh -i kbs.pem ubuntu@52.78.241.226\n",
    "\n",
    "##주의 : CNU WIFI만 써야함? IP달라서 그런가?\n",
    "\n",
    "scp -i kbs.pem kbs.pem ubuntu@52.78.241.226:/home/ubuntu\n",
    "\n",
    "# 로ㅓ컬에서 보내는 경로를 따로 지정하지 않아서 원격에서 받는 home/ubuntu 경로를 설정 안 했는데\n",
    "# 혹시나해서 /home/ubuntu 추가하니 되었다"
   ]
  },
  {
   "cell_type": "markdown",
   "id": "e33c1488",
   "metadata": {},
   "source": [
    "- Bastion에서 Pemkey 확인"
   ]
  },
  {
   "cell_type": "code",
   "execution_count": 4,
   "id": "20c122b6",
   "metadata": {},
   "outputs": [
    {
     "ename": "SyntaxError",
     "evalue": "invalid syntax (637759382.py, line 2)",
     "output_type": "error",
     "traceback": [
      "\u001b[0;36m  Input \u001b[0;32mIn [4]\u001b[0;36m\u001b[0m\n\u001b[0;31m    ls -al *.pem\u001b[0m\n\u001b[0m            ^\u001b[0m\n\u001b[0;31mSyntaxError\u001b[0m\u001b[0;31m:\u001b[0m invalid syntax\n"
     ]
    }
   ],
   "source": [
    "cd\n",
    "ls -al *.pem"
   ]
  },
  {
   "cell_type": "markdown",
   "id": "6378ec28",
   "metadata": {},
   "source": [
    "### 2. Pemkey 권한 변경\n",
    "- Bastion에서 Pemkey 권한 400으로 변경"
   ]
  },
  {
   "cell_type": "code",
   "execution_count": null,
   "id": "241f9e50",
   "metadata": {},
   "outputs": [],
   "source": [
    "chmod 400 /home/ubuntu/kbs.pem"
   ]
  },
  {
   "cell_type": "markdown",
   "id": "c3d002de",
   "metadata": {},
   "source": [
    "### 3. - Bastion에서 Password로 접속 가능하도록 변경\n",
    "-password 접속 설정 활성화 후 sshd 재시작"
   ]
  },
  {
   "cell_type": "code",
   "execution_count": null,
   "id": "67319958",
   "metadata": {},
   "outputs": [],
   "source": [
    "sudo su root\n",
    "passwd ubuntu\n",
    "vim /etc/ssh/sshd_config    #PasswordAuthentication yes 로 변경            \n",
    "systemctl restart sshd"
   ]
  },
  {
   "cell_type": "code",
   "execution_count": null,
   "id": "ff97d48c",
   "metadata": {},
   "outputs": [],
   "source": []
  },
  {
   "cell_type": "markdown",
   "id": "2e9f8c8f",
   "metadata": {},
   "source": [
    "# 개별 Password 접속 설정 (직접 입력해야 오류안뜨더라)"
   ]
  },
  {
   "cell_type": "markdown",
   "id": "c7a723cd",
   "metadata": {},
   "source": [
    "### 1. Bastion에서 Pemkey로 개별 서버 접속"
   ]
  },
  {
   "cell_type": "code",
   "execution_count": null,
   "id": "f8315c36",
   "metadata": {},
   "outputs": [],
   "source": [
    "ssh –i ~/kbs.pem ubuntu@<개별 서버 사설 ip> = bastion 말고 나머지 web, was \n",
    "개별 주소(10.10.40.11~)"
   ]
  },
  {
   "cell_type": "markdown",
   "id": "a5d104de",
   "metadata": {},
   "source": [
    "### 2. 개별서버에서 Password 접속 가능하도록 변경ㅡ"
   ]
  },
  {
   "cell_type": "code",
   "execution_count": null,
   "id": "228f93dc",
   "metadata": {},
   "outputs": [],
   "source": [
    "sudo su\n",
    "passwd ubuntu\n",
    "vim /etc/ssh/sshd_config    #PasswordAuthentication yes 로 변경 \n",
    "systemctl restart sshd\n",
    "exit                        #root사용자에서ubuntu사용자로 전환                      \n",
    "exit                        #개별서버에서Bastiond 환경으로 전환"
   ]
  },
  {
   "cell_type": "markdown",
   "id": "756b5d35",
   "metadata": {},
   "source": [
    "### 3. Password 접속 확인"
   ]
  },
  {
   "cell_type": "code",
   "execution_count": null,
   "id": "fdc6d5de",
   "metadata": {},
   "outputs": [],
   "source": [
    "ssh ubuntu@<개별서버 사설 IP>     # 명령어 입력 후 기존 설정한 비밀번호 입력\n",
    "exit                              # 개별서버에서 Bastion 환경으로 전환"
   ]
  },
  {
   "cell_type": "markdown",
   "id": "249be801",
   "metadata": {},
   "source": [
    "### 4. 1~3번 작업에 대해 모든서버 적용"
   ]
  },
  {
   "cell_type": "markdown",
   "id": "172aae2a",
   "metadata": {},
   "source": [
    "### 5. ssh 접속 오류 : ssh-keygen ←링크"
   ]
  },
  {
   "cell_type": "code",
   "execution_count": null,
   "id": "d019bd74",
   "metadata": {},
   "outputs": [],
   "source": []
  },
  {
   "cell_type": "markdown",
   "id": "dc1050d1",
   "metadata": {},
   "source": [
    "# WEB 서버 설정"
   ]
  },
  {
   "cell_type": "code",
   "execution_count": null,
   "id": "937d9023",
   "metadata": {},
   "outputs": [],
   "source": [
    "# 1. ngnix 설치"
   ]
  },
  {
   "cell_type": "code",
   "execution_count": null,
   "id": "de781072",
   "metadata": {},
   "outputs": [],
   "source": [
    "$ sudo apt-get update → 사용가능한 패키지와 최신버전 정보 업데이트\n",
    "$ sudo apt-get upgrade → 설치된 패키지 중 최신버전이 있으면 업그레이드\n",
    "$ sudo apt install nginx → Nginx 패키지 설치\n",
    "$ sudo nginx –v → 설치된 Nginx 버전 확인\n",
    "$ sudo systemctl start nginx → Nginx 실행"
   ]
  },
  {
   "cell_type": "code",
   "execution_count": 7,
   "id": "6e710f12",
   "metadata": {},
   "outputs": [],
   "source": [
    "# 2. Nginx 실행 확인#\n",
    "# [WEB] 로컬 호스트 접속으로 확인\n",
    "$ curl -I 127.0.0.1\n"
   ]
  },
  {
   "cell_type": "code",
   "execution_count": null,
   "id": "f66f2182",
   "metadata": {},
   "outputs": [],
   "source": [
    "#3. nigix 메인페이지 변경하는 법\n",
    "[web]\n",
    "$ cd /var/www/html\n",
    "$ sudo vim index.nginx-debian.html\n",
    "→ body h1 텍스트를 “WEB Nginx 01”로 수정\n",
    "\n",
    "# ALB 외부 DNS로 접속 = aws홈페이지 가서 EC2 로드밸런서 들어가면 있음, 주소창에 복사 붙여넣기하면됨"
   ]
  },
  {
   "cell_type": "code",
   "execution_count": null,
   "id": "f6d7e2e2",
   "metadata": {},
   "outputs": [],
   "source": []
  },
  {
   "cell_type": "markdown",
   "id": "18c2dce2",
   "metadata": {},
   "source": [
    "# WAS 서버 설정\n"
   ]
  },
  {
   "cell_type": "code",
   "execution_count": 8,
   "id": "ee02a739",
   "metadata": {},
   "outputs": [
    {
     "ename": "SyntaxError",
     "evalue": "invalid syntax (3091409334.py, line 4)",
     "output_type": "error",
     "traceback": [
      "\u001b[0;36m  Input \u001b[0;32mIn [8]\u001b[0;36m\u001b[0m\n\u001b[0;31m    $ sudo apt-get update → 사용가능한 패키지와 최신버전 정보 업데이트\u001b[0m\n\u001b[0m    ^\u001b[0m\n\u001b[0;31mSyntaxError\u001b[0m\u001b[0;31m:\u001b[0m invalid syntax\n"
     ]
    }
   ],
   "source": [
    "# JDK 패키지 목록 확인 및 설치 \n",
    "# WAS서버에서 진행.\n",
    "\n",
    "$ sudo apt-get update → 사용가능한 패키지와 최신버전 정보 업데이트\n",
    "$ sudo apt-get upgrade → 설치된 패키지 중 최신버전이 있으면 업그레이드\n",
    "$ sudo apt install openjdk-11-jdk → Openjdk 11 패키지 설치\n",
    "$ java –version → 설치된 Java 버전 확인\n",
    "$ sudo apt install tomcat9 → Tomcat9 패키지 설치\n",
    "$ sudo systemctl enable tomcat9 → Tomcat9 실행\n",
    "\n",
    " sudo systemctl status tomcat9 → Tomcat9 실행확인\n",
    "$ curl 127.0.0.1:8080 → Tomcat9 실행확인\n",
    "    \n",
    "\n",
    "$ cd /var/lib/tomcat9/webapps/ROOT\n",
    "$ sudo vim index.html\n",
    "→ body h1 텍스트를 “WAS Tomcat 01”로 수정"
   ]
  },
  {
   "cell_type": "markdown",
   "id": "0c74a940",
   "metadata": {},
   "source": [
    "# WAS <-> WEB 연동\n"
   ]
  },
  {
   "cell_type": "code",
   "execution_count": null,
   "id": "e0c0ee3c",
   "metadata": {},
   "outputs": [],
   "source": [
    "$ cd /etc/nginx/sites-available\n",
    "$ sudo vim default\n",
    "→ /local 아래에 추가\n",
    "proxy_pass http://<NLB DNS>:8080;\n",
    "proxy_set_header X-Real-IP $remote_addr;\n",
    "proxy_set_header X-Forwarded-For $proxy_add_x_forwarded_for;\n",
    "proxy_set_header Host $http_host;\n",
    "→ try_files $uri $uri/ =404; 앞에 # 추가\n",
    "$ sudo systemctl restart nginx"
   ]
  },
  {
   "cell_type": "code",
   "execution_count": null,
   "id": "0eaf8462",
   "metadata": {},
   "outputs": [],
   "source": [
    "# 그리고 중요!!!! \n",
    "\n",
    "proxy_pass http://kbs-int-was-nlb-85d2c284c7512ecd.elb.ap-northeast-2.amazonaws.com:8080;\n",
    "proxy_set_header X-Real-IP $remote_addr;\n",
    "proxy_set_header X-Forwarded-For $proxy_add_x_forwarded_for;\n",
    "proxy_set_header Host $http_host;\n",
    "\n",
    "try_files $uri $uri/ =404; 앞에 # 추가"
   ]
  },
  {
   "cell_type": "code",
   "execution_count": null,
   "id": "096b8ebc",
   "metadata": {},
   "outputs": [],
   "source": []
  },
  {
   "cell_type": "markdown",
   "id": "e59c943e",
   "metadata": {},
   "source": [
    "# RDS "
   ]
  },
  {
   "cell_type": "code",
   "execution_count": null,
   "id": "42d6eacb",
   "metadata": {},
   "outputs": [],
   "source": []
  }
 ],
 "metadata": {
  "kernelspec": {
   "display_name": "my_ml",
   "language": "python",
   "name": "my_ml"
  },
  "language_info": {
   "codemirror_mode": {
    "name": "ipython",
    "version": 3
   },
   "file_extension": ".py",
   "mimetype": "text/x-python",
   "name": "python",
   "nbconvert_exporter": "python",
   "pygments_lexer": "ipython3",
   "version": "3.9.13"
  }
 },
 "nbformat": 4,
 "nbformat_minor": 5
}
